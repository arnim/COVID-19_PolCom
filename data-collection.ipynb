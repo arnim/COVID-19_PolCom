{
 "cells": [
  {
   "cell_type": "markdown",
   "metadata": {},
   "source": [
    "# Data Collection\n",
    "\n",
    "We collected all tweets by the German Bundestag groups [Die Linke](https://en.wikipedia.org/wiki/The_Left_(Germany)) and [Alternative für Deutschland](https://en.wikipedia.org/wiki/Alternative_for_Germany) (accounts [@Linksfraktion](https://twitter.com/Linksfraktion) and [@AfDimBundestag](https://twitter.com/AfDimBundestag)) in the period from December 1st, 2019 to May 21st, 2020 containing the string \"corona\". \n",
    "\n",
    "To this end, we used the [GetOldTweets3](https://pypi.org/project/GetOldTweets3/) Bash command.\n",
    "```bash\n",
    "GetOldTweets3 --username \"@Linksfraktion, @AfDimBundestag\" \\\n",
    "              --querysearch \"corona\"  \\\n",
    "              --since 2019-12-01 --until 2020-05-21 \\\n",
    "              --maxtweets 1000 \\\n",
    "              --output \"data.csv\" \n",
    "```\n",
    "\n",
    "The data collection on May 22nd, 2020 resulted in a [dataset](./data.csv) of 195 tweets.\n",
    "\n",
    "The Twitter usernames of the other parties in the German Bundestag  are `@cducsubt, @spdbt, @GrueneBundestag, @FDP_Fraktion`."
   ]
  },
  {
   "cell_type": "code",
   "execution_count": null,
   "metadata": {},
   "outputs": [],
   "source": []
  }
 ],
 "metadata": {
  "kernelspec": {
   "display_name": "Bash",
   "language": "bash",
   "name": "bash"
  },
  "language_info": {
   "codemirror_mode": "shell",
   "file_extension": ".sh",
   "mimetype": "text/x-sh",
   "name": "bash"
  }
 },
 "nbformat": 4,
 "nbformat_minor": 4
}
