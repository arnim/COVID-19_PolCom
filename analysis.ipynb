{
 "cells": [
  {
   "cell_type": "markdown",
   "metadata": {},
   "source": [
    "\n"
   ]
  },
  {
   "cell_type": "markdown",
   "metadata": {},
   "source": [
    "# COVID-19 in Germany's Political Discourse \n",
    "\n",
    "\n",
    "**RQ:** What prevalence has *COVID-19* in the social media messaging across germany's political spectrum? \n",
    "\n",
    "We measure the number of posts on Twitter created by the parties in the German Bundestag containing the string \"`covid`\". We restrict us to the account of the left-wing party *Die Linke* ([@Linksfraktion](https://twitter.com/Linksfraktion)) and the right-wing party *Alternative für Deutschland* ([@AfDimBundestag](https://twitter.com/AfDimBundestag)). The [data](./data.csv) is collected in [data-collection.ipynb](data-collection.ipynb).\n",
    "\n",
    "\n",
    "For the analysis we begin by importing the required libraries"
   ]
  },
  {
   "cell_type": "code",
   "execution_count": null,
   "metadata": {},
   "outputs": [],
   "source": [
    "source(\"myLib.R\")"
   ]
  },
  {
   "cell_type": "markdown",
   "metadata": {},
   "source": [
    "<div class=\"alert alert-info\", style=\"font-size:16px\">\n",
    "    <img src=\"https://emojipedia-us.s3.dualstack.us-west-1.amazonaws.com/thumbs/120/apple/237/electric-light-bulb_1f4a1.png\" width=\"20\"/>  To execute cells press <strong>Shift+Enter</strong>.\n",
    "</div>"
   ]
  },
  {
   "cell_type": "code",
   "execution_count": null,
   "metadata": {},
   "outputs": [],
   "source": [
    "data <- read_csv(\"data.csv\", col_types = cols()) %>% mutate(date=as.Date(date,format = \"%d/%m/%y\" )) "
   ]
  },
  {
   "cell_type": "code",
   "execution_count": null,
   "metadata": {},
   "outputs": [],
   "source": []
  },
  {
   "cell_type": "markdown",
   "metadata": {},
   "source": [
    "To plot the prevalence of tweets containing the string \"`covid`\" we use the [ggplot](https://ggplot2.tidyverse.org/) library."
   ]
  },
  {
   "cell_type": "code",
   "execution_count": null,
   "metadata": {},
   "outputs": [],
   "source": [
    "data %>% ggplot(aes(x = date, fill = username)) +\n",
    "  geom_histogram(position = \"dodge\", binwidth = 3) + \n",
    "  labs(y = \"Number of tweets / day\", x = \"Date\",fill=\"Twitter accounts\", title=\"Salience of COVID\") +\n",
    "  scale_x_date(labels = date_format(\"%d-%m-%Y\")) + theme_stata() + scale_fill_stata() + theme(legend.position='right')"
   ]
  },
  {
   "cell_type": "code",
   "execution_count": null,
   "metadata": {},
   "outputs": [],
   "source": []
  }
 ],
 "metadata": {
  "kernelspec": {
   "display_name": "R",
   "language": "R",
   "name": "ir"
  },
  "language_info": {
   "codemirror_mode": "r",
   "file_extension": ".r",
   "mimetype": "text/x-r-source",
   "name": "R",
   "pygments_lexer": "r",
   "version": "3.6.3"
  }
 },
 "nbformat": 4,
 "nbformat_minor": 4
}
