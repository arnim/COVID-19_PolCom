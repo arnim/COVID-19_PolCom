{
 "cells": [
  {
   "cell_type": "markdown",
   "metadata": {},
   "source": [
    "# COVID-19 in Germany's Political Discourse \n",
    "\n",
    "\n",
    "**RQ:** What prevalence does *COVID-19* have in the social media messaging across Germany's political spectrum? \n",
    "\n",
    "We measure the number of posts on Twitter created by the parties in the German Bundestag containing the string \"corona\". We restrict us to the account of the left-wing party *Die Linke* ([@Linksfraktion](https://twitter.com/Linksfraktion)) and the right-wing party *Alternative für Deutschland* ([@AfDimBundestag](https://twitter.com/AfDimBundestag)).\n",
    "\n",
    "\n",
    "For the analysis we begin by importing the required libraries"
   ]
  },
  {
   "cell_type": "code",
   "execution_count": null,
   "metadata": {},
   "outputs": [],
   "source": [
    "source(\"myLib.R\")"
   ]
  },
  {
   "cell_type": "markdown",
   "metadata": {},
   "source": [
    "<div class=\"alert alert-info\", style=\"font-size:16px\">\n",
    "    <img src=\"https://emojipedia-us.s3.dualstack.us-west-1.amazonaws.com/thumbs/120/apple/237/electric-light-bulb_1f4a1.png\" width=\"20\"/>  To execute cells press <strong>Shift+Enter</strong>.\n",
    "</div>"
   ]
  },
  {
   "cell_type": "markdown",
   "metadata": {},
   "source": [
    "Next, we read the [data](./data.csv) (see [data-collection.ipynb](data-collection.ipynb) ) and plot the frequency of tweets. For plotting we use the [R](https://www.r-project.org/) package [ggplot](https://ggplot2.tidyverse.org/)."
   ]
  },
  {
   "cell_type": "code",
   "execution_count": null,
   "metadata": {},
   "outputs": [],
   "source": [
    "data <- read_csv(\"data.csv\", col_types = cols()) %>% mutate(date=as.Date(date)) \n",
    "\n",
    "data %>% ggplot(aes(x = date, fill = username)) +\n",
    "  geom_histogram(position = \"dodge\", binwidth = 1) + \n",
    "  labs(y = \"Number of tweets / day\", x = \"Date\",fill=\"Twitter accounts\") +\n",
    "  scale_fill_manual(values = c_values)"
   ]
  },
  {
   "cell_type": "code",
   "execution_count": null,
   "metadata": {},
   "outputs": [],
   "source": []
  }
 ],
 "metadata": {
  "kernelspec": {
   "display_name": "R",
   "language": "R",
   "name": "ir"
  },
  "language_info": {
   "codemirror_mode": "r",
   "file_extension": ".r",
   "mimetype": "text/x-r-source",
   "name": "R",
   "pygments_lexer": "r",
   "version": "3.6.3"
  }
 },
 "nbformat": 4,
 "nbformat_minor": 4
}
