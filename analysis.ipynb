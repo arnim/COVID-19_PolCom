{
 "cells": [
  {
   "cell_type": "markdown",
   "metadata": {},
   "source": [
    "\n"
   ]
  },
  {
   "cell_type": "markdown",
   "metadata": {},
   "source": [
    "# COVID-19 in Germany's Political Discourse \n",
    "\n",
    "\n",
    "We are interested in measuring the salience of COVID-19 in the communication of the parties *Die Linke* and *Alternative für Deutschland*. To this end all tweets that contain the sting **covid** by the accounts [@Linksfraktion](https://twitter.com/Linksfraktion) and [@AfDimBundestag](https://twitter.com/AfDimBundestag) have been collected for the period form 2019-12-01 to 2020-05-21. The resulting dataset is in the file [data/corona.csv](./data/corona.csv) and the technical realization is documented in [data-collection.ipynb](./data-collection.ipynb)\n",
    "\n",
    "\n",
    "In the first step for analysis we will load the necessary libraries and import the dataset"
   ]
  },
  {
   "cell_type": "code",
   "execution_count": null,
   "metadata": {},
   "outputs": [],
   "source": [
    "source(\"myLib.R\")\n",
    "\n",
    "data <- read_csv(\"corona.csv\", col_types = cols()) %>% mutate(date=as.Date(date,format = \"%d/%m/%y\" )) "
   ]
  },
  {
   "cell_type": "markdown",
   "metadata": {},
   "source": [
    "To execute the cell press`Shift+Enter`.\n",
    "\n",
    "To plot the histogram we use"
   ]
  },
  {
   "cell_type": "code",
   "execution_count": null,
   "metadata": {},
   "outputs": [],
   "source": [
    "data %>% ggplot(aes(x = date, fill = username)) +\n",
    "  geom_histogram(position = \"dodge\", binwidth = 3) + \n",
    "  labs(y = \"Number of tweets / day\", x = \"Date\",fill=\"Twitter accounts\", title=\"Salience of COVID\") +\n",
    "  scale_x_date(labels = date_format(\"%d-%m-%Y\")) + theme_stata() + scale_fill_stata() + theme(legend.position='right')"
   ]
  },
  {
   "cell_type": "code",
   "execution_count": null,
   "metadata": {},
   "outputs": [],
   "source": []
  }
 ],
 "metadata": {
  "kernelspec": {
   "display_name": "R",
   "language": "R",
   "name": "ir"
  },
  "language_info": {
   "codemirror_mode": "r",
   "file_extension": ".r",
   "mimetype": "text/x-r-source",
   "name": "R",
   "pygments_lexer": "r",
   "version": "3.6.3"
  }
 },
 "nbformat": 4,
 "nbformat_minor": 4
}
